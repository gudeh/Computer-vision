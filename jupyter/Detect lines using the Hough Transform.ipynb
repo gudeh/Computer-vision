{
 "cells": [
  {
   "cell_type": "code",
   "execution_count": 1,
   "metadata": {},
   "outputs": [],
   "source": [
    "%matplotlib inline"
   ]
  },
  {
   "cell_type": "markdown",
   "metadata": {},
   "source": [
    "# Hough transform\n",
    "\n",
    "\n",
    "The classical Hough transform was developed to identify lines in the image, but later the Hough transform has been extended to identify the positions of arbitrary shapes, most commonly circles or ellipses.\n",
    "\n",
    "\"In many cases an edge detector can be used as a pre-processing stage to obtain image points or image pixels that are on the desired curve in the image space. Due to imperfections in either the image data or the edge detector, however, there may be missing points or pixels on the desired curves as well as spatial deviations between the ideal line/circle/ellipse and the noisy edge points as they are obtained from the edge detector. For these reasons, it is often non-trivial to group the extracted edge features to an appropriate set of lines, circles or ellipses. The purpose of the Hough transform is to address this problem by making it possible to perform groupings of edge points into object candidates by performing an explicit voting procedure over a set of parameterized image objects.\" - ***wiki - Hough transform***.\n",
    "\n",
    "The Hough transform in its simplest form is a method to detect straight lines[1]_.\n",
    "\n",
    "In the following example, we construct an image with a line intersection. We then use the `Hough transform  <https://en.wikipedia.org/wiki/Hough_transform>`__. to explore a parameter space for straight lines that may run through the image.\n",
    "\n",
    "### Preprocessing\n",
    "\n",
    "Images that will be processed by some implementations of the Hough transform are usually preprocessed with tha ***Canny Edge Detector***: https://docs.opencv.org/3.1.0/da/d22  The OpenCV docs are in: https://docs.opencv.org/3.1.0/dd/d1a/group__imgproc__feature.html#ga04723e007ed888ddf11d9ba04e2232de/tutorial_py_canny.html\n",
    "\n",
    "\n",
    "Algorithm overview\n",
    "------------------\n",
    "\n",
    "Usually, lines are parameterised as $y = mx + c$, with a gradient\n",
    "$m$ and y-intercept `c`. However, this would mean that $m$ goes to\n",
    "infinity for vertical lines. Instead, we therefore construct a segment\n",
    "perpendicular to the line, leading to the origin. The line is represented by\n",
    "the length of that segment, $r$, and the angle it makes with the x-axis,\n",
    "$\\theta$.\n",
    "\n",
    "The Hough transform constructs a histogram array representing the parameter\n",
    "space (i.e., an $M \\times N$ matrix, for $M$ different values of\n",
    "the radius and $N$ different values of $\\theta$).  For each\n",
    "parameter combination, $r$ and $\\theta$, we then find the number of\n",
    "non-zero pixels in the input image that would fall close to the corresponding\n",
    "line, and increment the array at position $(r, \\theta)$ appropriately.\n",
    "\n",
    "We can think of each non-zero pixel \"voting\" for potential line candidates. The\n",
    "local maxima in the resulting histogram indicates the parameters of the most\n",
    "probably lines. In our example, the maxima occur at 45 and 135 degrees,\n",
    "corresponding to the normal vector angles of each line.\n",
    "\n",
    "Another approach is the Progressive Probabilistic Hough Transform [2]_. It is\n",
    "based on the assumption that using a random subset of voting points give a good\n",
    "approximation to the actual result, and that lines can be extracted during the\n",
    "voting process by walking along connected components. This returns the\n",
    "beginning and end of each line segment, which is useful.\n",
    "\n",
    "The function `probabilistic_hough` has three parameters: a general threshold\n",
    "that is applied to the Hough accumulator, a minimum line length and the line\n",
    "gap that influences line merging. In the example below, we find lines longer\n",
    "than 10 with a gap less than 3 pixels.\n",
    "\n",
    "References\n",
    "----------\n",
    "\n",
    ".. [1] Duda, R. O. and P. E. Hart, \"Use of the Hough Transformation to Detect Lines and Curves in Pictures,\" Comm. ACM, Vol. 15, pp. 11-15 (January, 1972)\n",
    "\n",
    ".. [2] C. Galamhos, J. Matas and J. Kittler,\"Progressive probabilistic Hough transform for line detection\", in IEEE Computer Society Conference on Computer Vision and Pattern Recognition, 1999.\n",
    "\n",
    "\n"
   ]
  },
  {
   "cell_type": "markdown",
   "metadata": {},
   "source": [
    "### Data Sources\n",
    "\n",
    "We will be using the ***scikit data module*** to provide us with an image data source. Look here to learn what it is: http://scikit-image.org/docs/dev/api/skimage.data.html It provides the following images:\n",
    "\n",
    " - skimage.data.astronaut() - Color image of the astronaut Eileen Collins.\n",
    "\n",
    " - skimage.data.binary_blobs([length, …]) - Generate synthetic binary image with several rounded blob-like objects.\n",
    "\n",
    " - skimage.data.camera() - Gray-level “camera” image.\n",
    "\n",
    " - skimage.data.checkerboard() - Checkerboard image.\n",
    "\n",
    " - skimage.data.chelsea() - Chelsea the cat.\n",
    "\n",
    " - skimage.data.clock() - Motion blurred clock.\n",
    "\n",
    " - skimage.data.coffee() - Coffee cup.\n",
    "\n",
    " - skimage.data.coins() - Greek coins from Pompeii.\n",
    "\n",
    " - skimage.data.horse() - Black and white silhouette of a horse.\n",
    "\n",
    " - skimage.data.hubble_deep_field() - Hubble eXtreme Deep Field.\n",
    "\n",
    " - skimage.data.immunohistochemistry() - Immunohistochemical (IHC) staining with hematoxylin counterstaining.\n",
    "\n",
    " - skimage.data.lbp_frontal_face_cascade_filename() - Returns the path to the XML file containing information about the weak classifiers of a cascade classifier trained using LBP features.\n",
    "\n",
    " - skimage.data.lfw_subset() - Subset of data from the LFW dataset.\n",
    "\n",
    " - skimage.data.logo() - Scikit-image logo, a RGBA image.\n",
    "\n",
    " - skimage.data.microaneurysms() - Gray-level “microaneurysms” image.\n",
    "\n",
    " - skimage.data.moon() - Surface of the moon.\n",
    "\n",
    " - skimage.data.page() - Scanned page.\n",
    "\n",
    " - skimage.data.text() - Gray-level “text” image used for corner detection.\n",
    "\n",
    " - skimage.data.retina() - Human retina.\n",
    "\n",
    " - skimage.data.rocket() - Launch photo of DSCOVR on Falcon 9 by SpaceX.\n",
    "\n",
    " - skimage.data.stereo_motorcycle() - Rectified stereo image pair with ground-truth disparities."
   ]
  },
  {
   "cell_type": "markdown",
   "metadata": {},
   "source": [
    "# Hough Lines"
   ]
  },
  {
   "cell_type": "markdown",
   "metadata": {},
   "source": [
    "## SciKit\n",
    "\n",
    "The Canny Edge Detector we are using here is this one: http://scikit-image.org/docs/dev/auto_examples/edges/plot_canny.html Function documentation is here: https://github.com/scikit-image/scikit-image/blob/master/skimage/feature/_canny.py"
   ]
  },
  {
   "cell_type": "code",
   "execution_count": 1,
   "metadata": {},
   "outputs": [
    {
     "data": {
      "application/vnd.jupyter.widget-view+json": {
       "model_id": "02bcf3e7c8ac4237a1ae17d7a7d58e4e",
       "version_major": 2,
       "version_minor": 0
      },
      "text/plain": [
       "interactive(children=(IntSlider(value=2, description='sigma', max=6, min=-2), IntSlider(value=1, description='…"
      ]
     },
     "metadata": {},
     "output_type": "display_data"
    }
   ],
   "source": [
    "import numpy as np\n",
    "from ipywidgets import interact, interactive, fixed, interact_manual\n",
    "import ipywidgets as widgets\n",
    "\n",
    "from skimage.transform import (hough_line, hough_line_peaks,\n",
    "                               probabilistic_hough_line)\n",
    "from skimage.feature import canny\n",
    "from skimage import data\n",
    "\n",
    "import matplotlib.pyplot as plt\n",
    "from matplotlib import cm\n",
    "\n",
    "\n",
    "def houghLinesSciKit(sigma, low_threshold, high_threshold,\n",
    "                    threshold, line_length, line_gap, probabilistic):\n",
    "    # Line finding using the Probabilistic Hough Transform\n",
    "    image = data.camera()\n",
    "    edges = canny(image, sigma=sigma, low_threshold=low_threshold, high_threshold=high_threshold)\n",
    "    if probabilistic:\n",
    "        lines = probabilistic_hough_line(edges, threshold=threshold, line_length=line_length, line_gap=line_gap)\n",
    "    else:\n",
    "        lines = hough_line(edges)\n",
    "\n",
    "    # Generating figure 2\n",
    "    fig, axes = plt.subplots(1, 3, figsize=(15, 5), sharex=True, sharey=True)\n",
    "    ax = axes.ravel()\n",
    "\n",
    "    ax[0].imshow(image, cmap=cm.gray)\n",
    "    ax[0].set_title('Input image')\n",
    "\n",
    "    ax[1].imshow(edges, cmap=cm.gray)\n",
    "    ax[1].set_title('Canny edges')\n",
    "\n",
    "    ax[2].imshow(edges * 0)\n",
    "    for line in lines:\n",
    "        p0, p1 = line\n",
    "        ax[2].plot((p0[0], p1[0]), (p0[1], p1[1]))\n",
    "    ax[2].set_xlim((0, image.shape[1]))\n",
    "    ax[2].set_ylim((image.shape[0], 0))\n",
    "    ax[2].set_title('Probabilistic Hough')\n",
    "\n",
    "    for a in ax:\n",
    "        a.set_axis_off()\n",
    "\n",
    "    plt.tight_layout()\n",
    "    plt.show()\n",
    "    \n",
    "interact_manual(houghLinesSciKit, sigma=2, low_threshold=1, high_threshold=25, threshold=10, line_length=5, line_gap=3, probabilistic=True)\n",
    "None"
   ]
  },
  {
   "cell_type": "markdown",
   "metadata": {},
   "source": [
    "## OpenCV"
   ]
  },
  {
   "cell_type": "code",
   "execution_count": 17,
   "metadata": {},
   "outputs": [
    {
     "data": {
      "application/vnd.jupyter.widget-view+json": {
       "model_id": "5a05b0fecf09450a9451fb4349d7d932",
       "version_major": 2,
       "version_minor": 0
      },
      "text/plain": [
       "interactive(children=(IntSlider(value=100, description='threshold1', max=300, min=-100), IntSlider(value=1000,…"
      ]
     },
     "metadata": {},
     "output_type": "display_data"
    }
   ],
   "source": [
    "from skimage import data\n",
    "from ipywidgets import interact, interactive, fixed, interact_manual\n",
    "import ipywidgets as widgets\n",
    "\n",
    "import cv2\n",
    "import numpy as np\n",
    "import matplotlib\n",
    "from matplotlib import pyplot as plt\n",
    "\n",
    "matplotlib.rcParams['figure.figsize'] = [20,7]\n",
    "\n",
    "\n",
    "def houghLinesOpenCV(threshold1,threshold2,apertureSize,L2gradient,\n",
    "                     rho,theta,threshold):\n",
    "    image = data.camera()\n",
    "\n",
    "    # If the image is colored, make a grayscale copy\n",
    "    if image.shape[-1] == 3:           \n",
    "        print('color image')\n",
    "        b,g,r = cv2.split(bgr_img)       # get b,g,r\n",
    "        rgb_img = cv2.merge([r,g,b])     # switch it to rgb\n",
    "        gray_img = cv2.cvtColor(image, cv2.COLOR_BGR2GRAY)\n",
    "    else:\n",
    "        print('gray image')\n",
    "        gray_img = image\n",
    "\n",
    "    # Blur the image \n",
    "    img = cv2.medianBlur(gray_img, 5)\n",
    "    # Create a grayscale version that allows colored painting on it\n",
    "    cimg = cv2.cvtColor(img,cv2.COLOR_GRAY2BGR)\n",
    "    #gray = cv2.cvtColor(img,cv2.COLOR_BGR2GRAY)\n",
    "\n",
    "    # Create an edge image with the OpenCV canny implementation\n",
    "    edges = cv2.Canny(gray_img,threshold1=threshold1,threshold2=threshold2,apertureSize=apertureSize, L2gradient=L2gradient)\n",
    "    # apertureSize is the aperture size for the Sobel edge detection operator\n",
    "\n",
    "    # Detect the lines in the image and store them in a list\n",
    "    lines = cv2.HoughLines(edges,rho=rho,theta=theta,threshold=threshold)\n",
    "    \n",
    "    # Traverse the list and paint each line on the color-capable image\n",
    "    for line_rho,line_theta in lines[0]:\n",
    "        a = np.cos(line_theta)\n",
    "        b = np.sin(line_theta)\n",
    "        x0 = a*line_rho\n",
    "        y0 = b*line_rho\n",
    "        x1 = int(x0 + 1000*(-b))\n",
    "        y1 = int(y0 + 1000*(a))\n",
    "        x2 = int(x0 - 1000*(-b))\n",
    "        y2 = int(y0 - 1000*(a))\n",
    "        cv2.line(cimg,(x1,y1),(x2,y2),(0,0,255),1)\n",
    "\n",
    "    # Write the result on the disk\n",
    "    #cv2.imwrite('houghlines3.jpg',img)\n",
    "    \n",
    "    # Create a row of three plots to show the image, edges and result\n",
    "    plt.subplot(131),plt.imshow(cv2.cvtColor(gray_img,cv2.COLOR_GRAY2BGR))\n",
    "    plt.title('Input Image'), plt.xticks([]), plt.yticks([])\n",
    "    plt.subplot(132),plt.imshow(edges)\n",
    "    plt.title('Edges Image'), plt.xticks([]), plt.yticks([])\n",
    "    plt.subplot(133),plt.imshow(cimg)\n",
    "    plt.title('Hough Transform'), plt.xticks([]), plt.yticks([])\n",
    "    plt.show()\n",
    "    \n",
    "interact(houghLinesOpenCV, threshold1=100,threshold2=1000,apertureSize=3,L2gradient=True, rho=50,theta=np.pi/180,threshold=50)\n",
    "None"
   ]
  },
  {
   "cell_type": "markdown",
   "metadata": {},
   "source": [
    "## OpenCV"
   ]
  },
  {
   "cell_type": "markdown",
   "metadata": {},
   "source": [
    "Docs: https://docs.opencv.org/3.1.0/dd/d1a/group__imgproc__feature.html#ga47849c3be0d0406ad3ca45db65a25d2d\n",
    "\n",
    "```python\n",
    "void cv::HoughCircles \t( \t\n",
    "        InputArray  \timage,\n",
    "\t\tOutputArray     circles,\n",
    "\t\tint  \t   method,\n",
    "\t\tdouble  \tdp,\n",
    "\t\tdouble  \tminDist,\n",
    "\t\tdouble  \tparam1 = 100,\n",
    "\t\tdouble  \tparam2 = 100,\n",
    "\t\tint  \t   minRadius = 0,\n",
    "\t\tint  \t   maxRadius = 0 \n",
    "\t) \t\n",
    "```\n",
    "**Parameters**\n",
    " - **image**\t8-bit, single-channel, grayscale input image.\n",
    " - **circles**\tOutput vector of found circles. Each vector is encoded as a 3-element floating-point vector \\((x, y, radius)\\) .\n",
    " - **method**\tDetection method, see *cv::HoughModes*. Currently, the only implemented method is *HOUGH_GRADIENT*\n",
    " - **dp**\tInverse ratio of the accumulator resolution to the image resolution. For example, if dp=1 , the accumulator has the same resolution as the input image. If dp=2 , the accumulator has half as big width and height.\n",
    " - **minDist**\tMinimum distance between the centers of the detected circles. If the parameter is too small, multiple neighbor circles may be falsely detected in addition to a true one. If it is too large, some circles may be missed.\n",
    " - **param1**\tFirst method-specific parameter. In case of CV_HOUGH_GRADIENT , it is the higher threshold of the two passed to the Canny edge detector (the lower one is twice smaller).\n",
    " - **param2**\tSecond method-specific parameter. In case of CV_HOUGH_GRADIENT , it is the accumulator threshold for the circle centers at the detection stage. The smaller it is, the more false circles may be detected. Circles, corresponding to the larger accumulator values, will be returned first.\n",
    " - **minRadius**\tMinimum circle radius.\n",
    " - **axRadius**\tMaximum circle radius.\n",
    "\n",
    "   "
   ]
  },
  {
   "cell_type": "code",
   "execution_count": 20,
   "metadata": {},
   "outputs": [
    {
     "name": "stdout",
     "output_type": "stream",
     "text": [
      "gray image\n"
     ]
    },
    {
     "data": {
      "image/png": "[encoded data removed]",
      "text/plain": [
       "<Figure size 432x288 with 2 Axes>"
      ]
     },
     "metadata": {},
     "output_type": "display_data"
    }
   ],
   "source": [
    "import cv2\n",
    "import numpy as np\n",
    "from matplotlib import pyplot as plt\n",
    "from skimage import data\n",
    "\n",
    "\n",
    "# bgr_img = cv2.imread('b.jpg') # read as it is\n",
    "image = data.clock()\n",
    "\n",
    "\n",
    "if image.shape[-1] == 3:           \n",
    "    print('color image')\n",
    "    b,g,r = cv2.split(bgr_img)       # get b,g,r\n",
    "    rgb_img = cv2.merge([r,g,b])     # switch it to rgb\n",
    "    gray_img = cv2.cvtColor(image, cv2.COLOR_BGR2GRAY)\n",
    "else:\n",
    "    print('gray image')\n",
    "    gray_img = image\n",
    "\n",
    "img = cv2.medianBlur(gray_img, 5)\n",
    "cimg = cv2.cvtColor(img,cv2.COLOR_GRAY2BGR)\n",
    "\n",
    "circles = cv2.HoughCircles(img,\n",
    "                           cv2.HOUGH_GRADIENT,\n",
    "                           dp=10,\n",
    "                           minDist=200,\n",
    "                           param1=50,\n",
    "                           param2=30,\n",
    "                           minRadius=10,\n",
    "                           maxRadius=100)\n",
    "\n",
    "circles = np.uint16(np.around(circles))\n",
    "\n",
    "for i in circles[0,:]:\n",
    "    # draw the outer circle\n",
    "    cv2.circle(cimg,(i[0],i[1]),i[2],(0,255,0),2)\n",
    "    # draw the center of the circle\n",
    "    cv2.circle(cimg,(i[0],i[1]),2,(0,0,255),3)\n",
    "\n",
    "plt.subplot(121),plt.imshow(gray_img)\n",
    "plt.title('Input Image'), plt.xticks([]), plt.yticks([])\n",
    "plt.subplot(122),plt.imshow(cimg)\n",
    "plt.title('Hough Transform'), plt.xticks([]), plt.yticks([])\n",
    "plt.show()"
   ]
  },
  {
   "cell_type": "code",
   "execution_count": null,
   "metadata": {},
   "outputs": [],
   "source": []
  }
 ],
 "metadata": {
  "gist": {
   "data": {
    "description": "plot_line_hough_transform.ipynb",
    "public": false
   },
   "id": ""
  },
  "kernelspec": {
   "display_name": "Python 3",
   "language": "python",
   "name": "python3"
  },
  "language_info": {
   "codemirror_mode": {
    "name": "ipython",
    "version": 3
   },
   "file_extension": ".py",
   "mimetype": "text/x-python",
   "name": "python",
   "nbconvert_exporter": "python",
   "pygments_lexer": "ipython3",
   "version": "3.7.1"
  },
  "varInspector": {
   "cols": {
    "lenName": "20",
    "lenType": "20",
    "lenVar": "61"
   },
   "kernels_config": {
    "python": {
     "delete_cmd_postfix": "",
     "delete_cmd_prefix": "del ",
     "library": "var_list.py",
     "varRefreshCmd": "print(var_dic_list())"
    },
    "r": {
     "delete_cmd_postfix": ") ",
     "delete_cmd_prefix": "rm(",
     "library": "var_list.r",
     "varRefreshCmd": "cat(var_dic_list()) "
    }
   },
   "position": {
    "height": "321.85px",
    "left": "889px",
    "right": "294px",
    "top": "196px",
    "width": "694px"
   },
   "types_to_exclude": [
    "module",
    "function",
    "builtin_function_or_method",
    "instance",
    "_Feature"
   ],
   "window_display": false
  }
 },
 "nbformat": 4,
 "nbformat_minor": 1
}
